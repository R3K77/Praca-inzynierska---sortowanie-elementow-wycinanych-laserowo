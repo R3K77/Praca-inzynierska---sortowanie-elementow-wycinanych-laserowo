{
 "cells": [
  {
   "metadata": {},
   "cell_type": "markdown",
   "source": [
    "<p style=\"text-align: center;font-size: 24px \">\n",
    "  Wyciąganie kluczowych punktów z gcode wraz z rozróżnieniem na główny kontur + wycięcia.\n",
    "</p>\n",
    "<p style=\"text-align: center;font-size: 18px \">\n",
    "Dodatkowo rozróżnienie na punkty liniowe i nieliniowe\n",
    "</p>\n"
   ],
   "id": "1ac025e555ab65e4"
  },
  {
   "metadata": {},
   "cell_type": "code",
   "outputs": [],
   "execution_count": null,
   "source": [
    "    # Test czy spakowana funkcja działa\n",
    "    images, pts, sheet_size, pts_hole, pts_isCircle_dict, pts_holeIsCircle_dict = single_gcode_elements_cv2(\n",
    "        '../../../../Gcode to image conversion/NC_files/arkusz-2001.nc',\n",
    "        600, 600,\n",
    "        200)\n",
    "    for key, value in images.items():\n",
    "        # Porównanie contours i approx poly w znajdowaniu punktów.\n",
    "        contourImage, polyImage, hullImage = imageBInfoExtraction(value, pts[key])\n",
    "        # wyciąganie ze słownika\n",
    "        pts_isCircle = pts_isCircle_dict[f'{key}']\n",
    "        pts_holeIsCircle = pts_holeIsCircle_dict[f'{key}']\n",
    "        points = pts[f'{key}']\n",
    "        points_hole = pts_hole[f'{key}']\n",
    "\n",
    "        buf = cv2.cvtColor(value, cv2.COLOR_GRAY2BGR)\n",
    "\n",
    "\n",
    "        #========== COLOR SCHEME PUNKTOW =============\n",
    "        #czerwony - punkty proste głównego obrysu\n",
    "        #żółty - punkty koliste głównego obrysu\n",
    "        #różowy - punkty proste otworu\n",
    "        #zielony - punkty koliste otworu\n",
    "\n",
    "        # Wizualizacja punktów głównego konturu + punktow kolistych\n",
    "        for i in range(len(points)):\n",
    "            if pts_isCircle[0][i]:\n",
    "                cv2.circle(buf, (points[i][0],points[i][1]),3 ,(0,255,255),3)\n",
    "            else:\n",
    "                cv2.circle(buf, (points[i][0],points[i][1]),3 ,(0,0,255),3)\n",
    "\n",
    "        # # Wizualizacja punktów wycięć + punktow kolistych\n",
    "        for j in range(len(points_hole)):\n",
    "            for i in range(len(points_hole[j])):\n",
    "                if pts_holeIsCircle[0][j][i]:\n",
    "                    cv2.circle(buf, (points_hole[j][i][0],points_hole[j][i][1]),2,(0, 255, 0), 2)\n",
    "                else:\n",
    "                    cv2.circle(buf, (points_hole[j][i][0], points_hole[j][i][1]), 2, (255, 0, 255), 2)\n"
   ],
   "id": "f84e32ad7a10a21a"
  },
  {
   "metadata": {},
   "cell_type": "markdown",
   "source": [
    "<p style=\"text-align: center;font-size: 24px \">\n",
    "  Rogi z metody Harrisa \n",
    "</p>"
   ],
   "id": "c1f111c1ac5784e0"
  },
  {
   "metadata": {
    "collapsed": true
   },
   "cell_type": "code",
   "outputs": [],
   "execution_count": null,
   "source": [
    "        ImageB = buf.copy()\n",
    "        f32ImageB = np.float32(value)\n",
    "        dst = cv2.cornerHarris(f32ImageB, 2, 3, 0.04)\n",
    "        dst = cv2.dilate(dst, None)\n",
    "        buf[dst > 0.01 * dst.max()] = [0, 0, 255]\n",
    "        cv2.imshow('dst', buf)"
   ],
   "id": "initial_id"
  }
 ],
 "metadata": {
  "kernelspec": {
   "display_name": "Python 3",
   "language": "python",
   "name": "python3"
  },
  "language_info": {
   "codemirror_mode": {
    "name": "ipython",
    "version": 2
   },
   "file_extension": ".py",
   "mimetype": "text/x-python",
   "name": "python",
   "nbconvert_exporter": "python",
   "pygments_lexer": "ipython2",
   "version": "2.7.6"
  }
 },
 "nbformat": 4,
 "nbformat_minor": 5
}
